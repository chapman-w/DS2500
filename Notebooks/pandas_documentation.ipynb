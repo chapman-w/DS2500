{
 "cells": [
  {
   "cell_type": "markdown",
   "id": "3af77937-d636-4e99-8d32-3511e4558cf3",
   "metadata": {},
   "source": [
    "## Pandas"
   ]
  },
  {
   "cell_type": "code",
   "execution_count": 1,
   "id": "85de3936-4232-40b7-bda6-2665d61af2c2",
   "metadata": {
    "tags": []
   },
   "outputs": [],
   "source": [
    "import pandas as pd"
   ]
  },
  {
   "cell_type": "code",
   "execution_count": 2,
   "id": "7ba35043-b078-468b-9284-0e8a0642f2a9",
   "metadata": {
    "tags": []
   },
   "outputs": [],
   "source": [
    "import numpy as np"
   ]
  },
  {
   "cell_type": "code",
   "execution_count": 3,
   "id": "02aaba92-513a-43c9-b529-79886a25be4d",
   "metadata": {
    "tags": []
   },
   "outputs": [
    {
     "data": {
      "text/html": [
       "<div>\n",
       "<style scoped>\n",
       "    .dataframe tbody tr th:only-of-type {\n",
       "        vertical-align: middle;\n",
       "    }\n",
       "\n",
       "    .dataframe tbody tr th {\n",
       "        vertical-align: top;\n",
       "    }\n",
       "\n",
       "    .dataframe thead th {\n",
       "        text-align: right;\n",
       "    }\n",
       "</style>\n",
       "<table border=\"1\" class=\"dataframe\">\n",
       "  <thead>\n",
       "    <tr style=\"text-align: right;\">\n",
       "      <th></th>\n",
       "      <th>Year</th>\n",
       "      <th>Admission Rate (Total)</th>\n",
       "      <th>Admission Rate (Men)</th>\n",
       "      <th>Admission Rate (Women)</th>\n",
       "    </tr>\n",
       "  </thead>\n",
       "  <tbody>\n",
       "    <tr>\n",
       "      <th>0</th>\n",
       "      <td>2013</td>\n",
       "      <td>32.31</td>\n",
       "      <td>31.76</td>\n",
       "      <td>32.77</td>\n",
       "    </tr>\n",
       "    <tr>\n",
       "      <th>1</th>\n",
       "      <td>2014</td>\n",
       "      <td>32.22</td>\n",
       "      <td>32.08</td>\n",
       "      <td>32.34</td>\n",
       "    </tr>\n",
       "    <tr>\n",
       "      <th>2</th>\n",
       "      <td>2015</td>\n",
       "      <td>28.48</td>\n",
       "      <td>28.98</td>\n",
       "      <td>28.04</td>\n",
       "    </tr>\n",
       "    <tr>\n",
       "      <th>3</th>\n",
       "      <td>2016</td>\n",
       "      <td>28.88</td>\n",
       "      <td>29.13</td>\n",
       "      <td>28.66</td>\n",
       "    </tr>\n",
       "    <tr>\n",
       "      <th>4</th>\n",
       "      <td>2017</td>\n",
       "      <td>27.44</td>\n",
       "      <td>27.15</td>\n",
       "      <td>27.69</td>\n",
       "    </tr>\n",
       "    <tr>\n",
       "      <th>5</th>\n",
       "      <td>2018</td>\n",
       "      <td>19.34</td>\n",
       "      <td>18.93</td>\n",
       "      <td>19.68</td>\n",
       "    </tr>\n",
       "    <tr>\n",
       "      <th>6</th>\n",
       "      <td>2019</td>\n",
       "      <td>18.05</td>\n",
       "      <td>18.35</td>\n",
       "      <td>17.80</td>\n",
       "    </tr>\n",
       "    <tr>\n",
       "      <th>7</th>\n",
       "      <td>2020</td>\n",
       "      <td>20.48</td>\n",
       "      <td>20.81</td>\n",
       "      <td>20.19</td>\n",
       "    </tr>\n",
       "    <tr>\n",
       "      <th>8</th>\n",
       "      <td>2021</td>\n",
       "      <td>18.00</td>\n",
       "      <td>16.00</td>\n",
       "      <td>20.00</td>\n",
       "    </tr>\n",
       "  </tbody>\n",
       "</table>\n",
       "</div>"
      ],
      "text/plain": [
       "   Year  Admission Rate (Total)  Admission Rate (Men)  Admission Rate (Women)\n",
       "0  2013                   32.31                 31.76                   32.77\n",
       "1  2014                   32.22                 32.08                   32.34\n",
       "2  2015                   28.48                 28.98                   28.04\n",
       "3  2016                   28.88                 29.13                   28.66\n",
       "4  2017                   27.44                 27.15                   27.69\n",
       "5  2018                   19.34                 18.93                   19.68\n",
       "6  2019                   18.05                 18.35                   17.80\n",
       "7  2020                   20.48                 20.81                   20.19\n",
       "8  2021                   18.00                 16.00                   20.00"
      ]
     },
     "execution_count": 3,
     "metadata": {},
     "output_type": "execute_result"
    }
   ],
   "source": [
    "data = pd.read_csv(\"../classwork/data/neu/admission_rate.csv\")\n",
    "data"
   ]
  },
  {
   "cell_type": "code",
   "execution_count": 4,
   "id": "4bea28a0-15c6-43ed-9a6e-59484c657aa0",
   "metadata": {
    "tags": []
   },
   "outputs": [
    {
     "data": {
      "text/plain": [
       "9"
      ]
     },
     "execution_count": 4,
     "metadata": {},
     "output_type": "execute_result"
    }
   ],
   "source": [
    "# Rows\n",
    "len(data)"
   ]
  },
  {
   "cell_type": "code",
   "execution_count": 5,
   "id": "cafa069e-8f5b-4aa8-9eba-74c19100f0ea",
   "metadata": {
    "tags": []
   },
   "outputs": [
    {
     "data": {
      "text/plain": [
       "4"
      ]
     },
     "execution_count": 5,
     "metadata": {},
     "output_type": "execute_result"
    }
   ],
   "source": [
    "# Columns\n",
    "data.shape[1]"
   ]
  },
  {
   "cell_type": "code",
   "execution_count": 6,
   "id": "a913b5fb-ee22-4556-84e4-cacd52ee231a",
   "metadata": {
    "tags": []
   },
   "outputs": [
    {
     "data": {
      "text/plain": [
       "(9, 4)"
      ]
     },
     "execution_count": 6,
     "metadata": {},
     "output_type": "execute_result"
    }
   ],
   "source": [
    "# Tuple of rows and columns\n",
    "data.shape"
   ]
  },
  {
   "cell_type": "code",
   "execution_count": 7,
   "id": "77cefdb4-f594-4cc5-a64a-6c6835b25dd8",
   "metadata": {
    "tags": []
   },
   "outputs": [
    {
     "data": {
      "text/plain": [
       "Year                      2016.00\n",
       "Admission Rate (Total)      28.88\n",
       "Admission Rate (Men)        29.13\n",
       "Admission Rate (Women)      28.66\n",
       "Name: 3, dtype: float64"
      ]
     },
     "execution_count": 7,
     "metadata": {},
     "output_type": "execute_result"
    }
   ],
   "source": [
    "data.loc[3]"
   ]
  },
  {
   "cell_type": "code",
   "execution_count": 8,
   "id": "6ac6c286-705b-4b23-be82-e600304d0292",
   "metadata": {
    "tags": []
   },
   "outputs": [
    {
     "data": {
      "text/plain": [
       "pandas.core.series.Series"
      ]
     },
     "execution_count": 8,
     "metadata": {},
     "output_type": "execute_result"
    }
   ],
   "source": [
    "type(data.loc[3])"
   ]
  },
  {
   "cell_type": "code",
   "execution_count": 9,
   "id": "8e1e6c73-8650-4a40-b31f-d7da6506ab99",
   "metadata": {
    "tags": []
   },
   "outputs": [
    {
     "data": {
      "text/plain": [
       "0    32.31\n",
       "1    32.22\n",
       "2    28.48\n",
       "3    28.88\n",
       "4    27.44\n",
       "5    19.34\n",
       "6    18.05\n",
       "7    20.48\n",
       "8    18.00\n",
       "Name: Admission Rate (Total), dtype: float64"
      ]
     },
     "execution_count": 9,
     "metadata": {},
     "output_type": "execute_result"
    }
   ],
   "source": [
    "data[\"Admission Rate (Total)\"]"
   ]
  },
  {
   "cell_type": "code",
   "execution_count": 10,
   "id": "e329f409-9554-4fee-8cd7-948ec068c0a6",
   "metadata": {
    "tags": []
   },
   "outputs": [
    {
     "data": {
      "text/html": [
       "<div>\n",
       "<style scoped>\n",
       "    .dataframe tbody tr th:only-of-type {\n",
       "        vertical-align: middle;\n",
       "    }\n",
       "\n",
       "    .dataframe tbody tr th {\n",
       "        vertical-align: top;\n",
       "    }\n",
       "\n",
       "    .dataframe thead th {\n",
       "        text-align: right;\n",
       "    }\n",
       "</style>\n",
       "<table border=\"1\" class=\"dataframe\">\n",
       "  <thead>\n",
       "    <tr style=\"text-align: right;\">\n",
       "      <th></th>\n",
       "      <th>Year</th>\n",
       "      <th>Admission Rate (Total)</th>\n",
       "      <th>Admission Rate (Women)</th>\n",
       "    </tr>\n",
       "  </thead>\n",
       "  <tbody>\n",
       "    <tr>\n",
       "      <th>0</th>\n",
       "      <td>2013</td>\n",
       "      <td>32.31</td>\n",
       "      <td>32.77</td>\n",
       "    </tr>\n",
       "    <tr>\n",
       "      <th>1</th>\n",
       "      <td>2014</td>\n",
       "      <td>32.22</td>\n",
       "      <td>32.34</td>\n",
       "    </tr>\n",
       "    <tr>\n",
       "      <th>2</th>\n",
       "      <td>2015</td>\n",
       "      <td>28.48</td>\n",
       "      <td>28.04</td>\n",
       "    </tr>\n",
       "    <tr>\n",
       "      <th>3</th>\n",
       "      <td>2016</td>\n",
       "      <td>28.88</td>\n",
       "      <td>28.66</td>\n",
       "    </tr>\n",
       "    <tr>\n",
       "      <th>4</th>\n",
       "      <td>2017</td>\n",
       "      <td>27.44</td>\n",
       "      <td>27.69</td>\n",
       "    </tr>\n",
       "    <tr>\n",
       "      <th>5</th>\n",
       "      <td>2018</td>\n",
       "      <td>19.34</td>\n",
       "      <td>19.68</td>\n",
       "    </tr>\n",
       "    <tr>\n",
       "      <th>6</th>\n",
       "      <td>2019</td>\n",
       "      <td>18.05</td>\n",
       "      <td>17.80</td>\n",
       "    </tr>\n",
       "    <tr>\n",
       "      <th>7</th>\n",
       "      <td>2020</td>\n",
       "      <td>20.48</td>\n",
       "      <td>20.19</td>\n",
       "    </tr>\n",
       "    <tr>\n",
       "      <th>8</th>\n",
       "      <td>2021</td>\n",
       "      <td>18.00</td>\n",
       "      <td>20.00</td>\n",
       "    </tr>\n",
       "  </tbody>\n",
       "</table>\n",
       "</div>"
      ],
      "text/plain": [
       "   Year  Admission Rate (Total)  Admission Rate (Women)\n",
       "0  2013                   32.31                   32.77\n",
       "1  2014                   32.22                   32.34\n",
       "2  2015                   28.48                   28.04\n",
       "3  2016                   28.88                   28.66\n",
       "4  2017                   27.44                   27.69\n",
       "5  2018                   19.34                   19.68\n",
       "6  2019                   18.05                   17.80\n",
       "7  2020                   20.48                   20.19\n",
       "8  2021                   18.00                   20.00"
      ]
     },
     "execution_count": 10,
     "metadata": {},
     "output_type": "execute_result"
    }
   ],
   "source": [
    "data.drop(\"Admission Rate (Men)\", axis=1)"
   ]
  },
  {
   "cell_type": "code",
   "execution_count": 11,
   "id": "43bd0e60-f93e-47b2-9095-c46ddcae5887",
   "metadata": {
    "tags": []
   },
   "outputs": [
    {
     "data": {
      "text/html": [
       "<div>\n",
       "<style scoped>\n",
       "    .dataframe tbody tr th:only-of-type {\n",
       "        vertical-align: middle;\n",
       "    }\n",
       "\n",
       "    .dataframe tbody tr th {\n",
       "        vertical-align: top;\n",
       "    }\n",
       "\n",
       "    .dataframe thead th {\n",
       "        text-align: right;\n",
       "    }\n",
       "</style>\n",
       "<table border=\"1\" class=\"dataframe\">\n",
       "  <thead>\n",
       "    <tr style=\"text-align: right;\">\n",
       "      <th></th>\n",
       "      <th>Year</th>\n",
       "      <th>American Indian or Native American</th>\n",
       "      <th>Asian</th>\n",
       "      <th>Black</th>\n",
       "      <th>Hispanic</th>\n",
       "      <th>Native Hawaiian or Other Pacific Islander</th>\n",
       "      <th>White</th>\n",
       "      <th>Two or More Races</th>\n",
       "    </tr>\n",
       "  </thead>\n",
       "  <tbody>\n",
       "    <tr>\n",
       "      <th>0</th>\n",
       "      <td>2013</td>\n",
       "      <td>15</td>\n",
       "      <td>1,600</td>\n",
       "      <td>632</td>\n",
       "      <td>1,066</td>\n",
       "      <td>3</td>\n",
       "      <td>8,831</td>\n",
       "      <td>534</td>\n",
       "    </tr>\n",
       "    <tr>\n",
       "      <th>1</th>\n",
       "      <td>2014</td>\n",
       "      <td>10</td>\n",
       "      <td>1,753</td>\n",
       "      <td>624</td>\n",
       "      <td>1,103</td>\n",
       "      <td>7</td>\n",
       "      <td>8,828</td>\n",
       "      <td>597</td>\n",
       "    </tr>\n",
       "    <tr>\n",
       "      <th>2</th>\n",
       "      <td>2015</td>\n",
       "      <td>13</td>\n",
       "      <td>1,903</td>\n",
       "      <td>646</td>\n",
       "      <td>1,116</td>\n",
       "      <td>5</td>\n",
       "      <td>8,568</td>\n",
       "      <td>595</td>\n",
       "    </tr>\n",
       "    <tr>\n",
       "      <th>3</th>\n",
       "      <td>2016</td>\n",
       "      <td>13</td>\n",
       "      <td>1,994</td>\n",
       "      <td>660</td>\n",
       "      <td>1,160</td>\n",
       "      <td>4</td>\n",
       "      <td>8,218</td>\n",
       "      <td>647</td>\n",
       "    </tr>\n",
       "    <tr>\n",
       "      <th>4</th>\n",
       "      <td>2017</td>\n",
       "      <td>9</td>\n",
       "      <td>2,163</td>\n",
       "      <td>644</td>\n",
       "      <td>1,296</td>\n",
       "      <td>2</td>\n",
       "      <td>8,397</td>\n",
       "      <td>668</td>\n",
       "    </tr>\n",
       "    <tr>\n",
       "      <th>5</th>\n",
       "      <td>2018</td>\n",
       "      <td>8</td>\n",
       "      <td>2,279</td>\n",
       "      <td>712</td>\n",
       "      <td>1,402</td>\n",
       "      <td>4</td>\n",
       "      <td>8,271</td>\n",
       "      <td>705</td>\n",
       "    </tr>\n",
       "    <tr>\n",
       "      <th>6</th>\n",
       "      <td>2019</td>\n",
       "      <td>9</td>\n",
       "      <td>2,452</td>\n",
       "      <td>750</td>\n",
       "      <td>1,501</td>\n",
       "      <td>5</td>\n",
       "      <td>8,367</td>\n",
       "      <td>796</td>\n",
       "    </tr>\n",
       "    <tr>\n",
       "      <th>7</th>\n",
       "      <td>2020</td>\n",
       "      <td>8</td>\n",
       "      <td>3,103</td>\n",
       "      <td>834</td>\n",
       "      <td>1,670</td>\n",
       "      <td>1</td>\n",
       "      <td>8,961</td>\n",
       "      <td>948</td>\n",
       "    </tr>\n",
       "    <tr>\n",
       "      <th>8</th>\n",
       "      <td>2021</td>\n",
       "      <td>12</td>\n",
       "      <td>3,713</td>\n",
       "      <td>1,236</td>\n",
       "      <td>2,180</td>\n",
       "      <td>3</td>\n",
       "      <td>9,705</td>\n",
       "      <td>1,132</td>\n",
       "    </tr>\n",
       "  </tbody>\n",
       "</table>\n",
       "</div>"
      ],
      "text/plain": [
       "   Year  American Indian or Native American  Asian  Black Hispanic  \\\n",
       "0  2013                                  15  1,600    632    1,066   \n",
       "1  2014                                  10  1,753    624    1,103   \n",
       "2  2015                                  13  1,903    646    1,116   \n",
       "3  2016                                  13  1,994    660    1,160   \n",
       "4  2017                                   9  2,163    644    1,296   \n",
       "5  2018                                   8  2,279    712    1,402   \n",
       "6  2019                                   9  2,452    750    1,501   \n",
       "7  2020                                   8  3,103    834    1,670   \n",
       "8  2021                                  12  3,713  1,236    2,180   \n",
       "\n",
       "   Native Hawaiian or Other Pacific Islander  White Two or More Races  \n",
       "0                                          3  8,831               534  \n",
       "1                                          7  8,828               597  \n",
       "2                                          5  8,568               595  \n",
       "3                                          4  8,218               647  \n",
       "4                                          2  8,397               668  \n",
       "5                                          4  8,271               705  \n",
       "6                                          5  8,367               796  \n",
       "7                                          1  8,961               948  \n",
       "8                                          3  9,705             1,132  "
      ]
     },
     "execution_count": 11,
     "metadata": {},
     "output_type": "execute_result"
    }
   ],
   "source": [
    "d_data = pd.read_csv(\"../classwork/data/neu/demographics.csv\")\n",
    "d_data"
   ]
  },
  {
   "cell_type": "code",
   "execution_count": 12,
   "id": "f8c28790-64fb-45d0-98bc-bead185b3087",
   "metadata": {
    "tags": []
   },
   "outputs": [
    {
     "data": {
      "text/plain": [
       "(9, 8)"
      ]
     },
     "execution_count": 12,
     "metadata": {},
     "output_type": "execute_result"
    }
   ],
   "source": [
    "d_data.shape"
   ]
  },
  {
   "cell_type": "code",
   "execution_count": 13,
   "id": "06c7a9a7-9787-4ed7-8941-96a475070847",
   "metadata": {
    "tags": []
   },
   "outputs": [
    {
     "data": {
      "text/html": [
       "<div>\n",
       "<style scoped>\n",
       "    .dataframe tbody tr th:only-of-type {\n",
       "        vertical-align: middle;\n",
       "    }\n",
       "\n",
       "    .dataframe tbody tr th {\n",
       "        vertical-align: top;\n",
       "    }\n",
       "\n",
       "    .dataframe thead th {\n",
       "        text-align: right;\n",
       "    }\n",
       "</style>\n",
       "<table border=\"1\" class=\"dataframe\">\n",
       "  <thead>\n",
       "    <tr style=\"text-align: right;\">\n",
       "      <th></th>\n",
       "      <th>Year</th>\n",
       "      <th>Admission Rate (Total)</th>\n",
       "      <th>Admission Rate (Men)</th>\n",
       "      <th>Admission Rate (Women)</th>\n",
       "      <th>American Indian or Native American</th>\n",
       "      <th>Asian</th>\n",
       "      <th>Black</th>\n",
       "      <th>Hispanic</th>\n",
       "      <th>Native Hawaiian or Other Pacific Islander</th>\n",
       "      <th>White</th>\n",
       "      <th>Two or More Races</th>\n",
       "    </tr>\n",
       "  </thead>\n",
       "  <tbody>\n",
       "    <tr>\n",
       "      <th>0</th>\n",
       "      <td>2013</td>\n",
       "      <td>32.31</td>\n",
       "      <td>31.76</td>\n",
       "      <td>32.77</td>\n",
       "      <td>15</td>\n",
       "      <td>1,600</td>\n",
       "      <td>632</td>\n",
       "      <td>1,066</td>\n",
       "      <td>3</td>\n",
       "      <td>8,831</td>\n",
       "      <td>534</td>\n",
       "    </tr>\n",
       "    <tr>\n",
       "      <th>1</th>\n",
       "      <td>2014</td>\n",
       "      <td>32.22</td>\n",
       "      <td>32.08</td>\n",
       "      <td>32.34</td>\n",
       "      <td>10</td>\n",
       "      <td>1,753</td>\n",
       "      <td>624</td>\n",
       "      <td>1,103</td>\n",
       "      <td>7</td>\n",
       "      <td>8,828</td>\n",
       "      <td>597</td>\n",
       "    </tr>\n",
       "    <tr>\n",
       "      <th>2</th>\n",
       "      <td>2015</td>\n",
       "      <td>28.48</td>\n",
       "      <td>28.98</td>\n",
       "      <td>28.04</td>\n",
       "      <td>13</td>\n",
       "      <td>1,903</td>\n",
       "      <td>646</td>\n",
       "      <td>1,116</td>\n",
       "      <td>5</td>\n",
       "      <td>8,568</td>\n",
       "      <td>595</td>\n",
       "    </tr>\n",
       "    <tr>\n",
       "      <th>3</th>\n",
       "      <td>2016</td>\n",
       "      <td>28.88</td>\n",
       "      <td>29.13</td>\n",
       "      <td>28.66</td>\n",
       "      <td>13</td>\n",
       "      <td>1,994</td>\n",
       "      <td>660</td>\n",
       "      <td>1,160</td>\n",
       "      <td>4</td>\n",
       "      <td>8,218</td>\n",
       "      <td>647</td>\n",
       "    </tr>\n",
       "    <tr>\n",
       "      <th>4</th>\n",
       "      <td>2017</td>\n",
       "      <td>27.44</td>\n",
       "      <td>27.15</td>\n",
       "      <td>27.69</td>\n",
       "      <td>9</td>\n",
       "      <td>2,163</td>\n",
       "      <td>644</td>\n",
       "      <td>1,296</td>\n",
       "      <td>2</td>\n",
       "      <td>8,397</td>\n",
       "      <td>668</td>\n",
       "    </tr>\n",
       "    <tr>\n",
       "      <th>5</th>\n",
       "      <td>2018</td>\n",
       "      <td>19.34</td>\n",
       "      <td>18.93</td>\n",
       "      <td>19.68</td>\n",
       "      <td>8</td>\n",
       "      <td>2,279</td>\n",
       "      <td>712</td>\n",
       "      <td>1,402</td>\n",
       "      <td>4</td>\n",
       "      <td>8,271</td>\n",
       "      <td>705</td>\n",
       "    </tr>\n",
       "    <tr>\n",
       "      <th>6</th>\n",
       "      <td>2019</td>\n",
       "      <td>18.05</td>\n",
       "      <td>18.35</td>\n",
       "      <td>17.80</td>\n",
       "      <td>9</td>\n",
       "      <td>2,452</td>\n",
       "      <td>750</td>\n",
       "      <td>1,501</td>\n",
       "      <td>5</td>\n",
       "      <td>8,367</td>\n",
       "      <td>796</td>\n",
       "    </tr>\n",
       "    <tr>\n",
       "      <th>7</th>\n",
       "      <td>2020</td>\n",
       "      <td>20.48</td>\n",
       "      <td>20.81</td>\n",
       "      <td>20.19</td>\n",
       "      <td>8</td>\n",
       "      <td>3,103</td>\n",
       "      <td>834</td>\n",
       "      <td>1,670</td>\n",
       "      <td>1</td>\n",
       "      <td>8,961</td>\n",
       "      <td>948</td>\n",
       "    </tr>\n",
       "    <tr>\n",
       "      <th>8</th>\n",
       "      <td>2021</td>\n",
       "      <td>18.00</td>\n",
       "      <td>16.00</td>\n",
       "      <td>20.00</td>\n",
       "      <td>12</td>\n",
       "      <td>3,713</td>\n",
       "      <td>1,236</td>\n",
       "      <td>2,180</td>\n",
       "      <td>3</td>\n",
       "      <td>9,705</td>\n",
       "      <td>1,132</td>\n",
       "    </tr>\n",
       "  </tbody>\n",
       "</table>\n",
       "</div>"
      ],
      "text/plain": [
       "   Year  Admission Rate (Total)  Admission Rate (Men)  Admission Rate (Women)  \\\n",
       "0  2013                   32.31                 31.76                   32.77   \n",
       "1  2014                   32.22                 32.08                   32.34   \n",
       "2  2015                   28.48                 28.98                   28.04   \n",
       "3  2016                   28.88                 29.13                   28.66   \n",
       "4  2017                   27.44                 27.15                   27.69   \n",
       "5  2018                   19.34                 18.93                   19.68   \n",
       "6  2019                   18.05                 18.35                   17.80   \n",
       "7  2020                   20.48                 20.81                   20.19   \n",
       "8  2021                   18.00                 16.00                   20.00   \n",
       "\n",
       "   American Indian or Native American  Asian  Black Hispanic  \\\n",
       "0                                  15  1,600    632    1,066   \n",
       "1                                  10  1,753    624    1,103   \n",
       "2                                  13  1,903    646    1,116   \n",
       "3                                  13  1,994    660    1,160   \n",
       "4                                   9  2,163    644    1,296   \n",
       "5                                   8  2,279    712    1,402   \n",
       "6                                   9  2,452    750    1,501   \n",
       "7                                   8  3,103    834    1,670   \n",
       "8                                  12  3,713  1,236    2,180   \n",
       "\n",
       "   Native Hawaiian or Other Pacific Islander  White Two or More Races  \n",
       "0                                          3  8,831               534  \n",
       "1                                          7  8,828               597  \n",
       "2                                          5  8,568               595  \n",
       "3                                          4  8,218               647  \n",
       "4                                          2  8,397               668  \n",
       "5                                          4  8,271               705  \n",
       "6                                          5  8,367               796  \n",
       "7                                          1  8,961               948  \n",
       "8                                          3  9,705             1,132  "
      ]
     },
     "execution_count": 13,
     "metadata": {},
     "output_type": "execute_result"
    }
   ],
   "source": [
    "new = data.merge(d_data, on='Year')\n",
    "new"
   ]
  },
  {
   "cell_type": "code",
   "execution_count": 14,
   "id": "ffd956b8-bf7f-443d-8f94-9ae72294b56f",
   "metadata": {
    "tags": []
   },
   "outputs": [
    {
     "data": {
      "text/plain": [
       "(9, 11)"
      ]
     },
     "execution_count": 14,
     "metadata": {},
     "output_type": "execute_result"
    }
   ],
   "source": [
    "new.shape"
   ]
  }
 ],
 "metadata": {
  "kernelspec": {
   "display_name": "Python 3 (ipykernel)",
   "language": "python",
   "name": "python3"
  },
  "language_info": {
   "codemirror_mode": {
    "name": "ipython",
    "version": 3
   },
   "file_extension": ".py",
   "mimetype": "text/x-python",
   "name": "python",
   "nbconvert_exporter": "python",
   "pygments_lexer": "ipython3",
   "version": "3.11.5"
  }
 },
 "nbformat": 4,
 "nbformat_minor": 5
}
