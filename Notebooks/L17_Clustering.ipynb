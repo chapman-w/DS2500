{
 "cells": [
  {
   "cell_type": "code",
   "execution_count": 1,
   "id": "7d79634c-a044-463b-b20c-e46e3bbba34b",
   "metadata": {},
   "outputs": [],
   "source": [
    "import pandas as pd"
   ]
  },
  {
   "cell_type": "code",
   "execution_count": 2,
   "id": "e77de9c6-c22e-4e06-8d91-fd7016e89438",
   "metadata": {},
   "outputs": [
    {
     "data": {
      "text/html": [
       "<div>\n",
       "<style scoped>\n",
       "    .dataframe tbody tr th:only-of-type {\n",
       "        vertical-align: middle;\n",
       "    }\n",
       "\n",
       "    .dataframe tbody tr th {\n",
       "        vertical-align: top;\n",
       "    }\n",
       "\n",
       "    .dataframe thead th {\n",
       "        text-align: right;\n",
       "    }\n",
       "</style>\n",
       "<table border=\"1\" class=\"dataframe\">\n",
       "  <thead>\n",
       "    <tr style=\"text-align: right;\">\n",
       "      <th></th>\n",
       "      <th>name</th>\n",
       "      <th>slimy</th>\n",
       "      <th>kill humans</th>\n",
       "      <th>catchphrase</th>\n",
       "    </tr>\n",
       "  </thead>\n",
       "  <tbody>\n",
       "    <tr>\n",
       "      <th>0</th>\n",
       "      <td>stitch</td>\n",
       "      <td>1.0</td>\n",
       "      <td>2.0</td>\n",
       "      <td>ohana means family family means no one is left...</td>\n",
       "    </tr>\n",
       "    <tr>\n",
       "      <th>1</th>\n",
       "      <td>E.T.</td>\n",
       "      <td>2.0</td>\n",
       "      <td>1.0</td>\n",
       "      <td>E.T. phone home!</td>\n",
       "    </tr>\n",
       "    <tr>\n",
       "      <th>2</th>\n",
       "      <td>Harvester</td>\n",
       "      <td>9.0</td>\n",
       "      <td>10.0</td>\n",
       "      <td>I would like to conquer your planet</td>\n",
       "    </tr>\n",
       "    <tr>\n",
       "      <th>3</th>\n",
       "      <td>kang</td>\n",
       "      <td>10.0</td>\n",
       "      <td>8.0</td>\n",
       "      <td>Go ahead! Throw your vote away!</td>\n",
       "    </tr>\n",
       "    <tr>\n",
       "      <th>4</th>\n",
       "      <td>kodos</td>\n",
       "      <td>10.0</td>\n",
       "      <td>7.0</td>\n",
       "      <td>Eat, Simpsons! Grow large with food!</td>\n",
       "    </tr>\n",
       "  </tbody>\n",
       "</table>\n",
       "</div>"
      ],
      "text/plain": [
       "        name  slimy  kill humans  \\\n",
       "0     stitch    1.0          2.0   \n",
       "1       E.T.    2.0          1.0   \n",
       "2  Harvester    9.0         10.0   \n",
       "3       kang   10.0          8.0   \n",
       "4      kodos   10.0          7.0   \n",
       "\n",
       "                                         catchphrase  \n",
       "0  ohana means family family means no one is left...  \n",
       "1                                   E.T. phone home!  \n",
       "2                I would like to conquer your planet  \n",
       "3                    Go ahead! Throw your vote away!  \n",
       "4               Eat, Simpsons! Grow large with food!  "
      ]
     },
     "execution_count": 2,
     "metadata": {},
     "output_type": "execute_result"
    }
   ],
   "source": [
    "# read the data\n",
    "df = pd.read_json(\"../classwork/data/aliens-1.json\")\n",
    "df = pd.json_normalize(df[\"results\"])\n",
    "df.describe()\n",
    "df.head()"
   ]
  },
  {
   "cell_type": "code",
   "execution_count": 3,
   "id": "3e2bc799-fc4d-4b8b-81b0-db4992b5fbad",
   "metadata": {},
   "outputs": [],
   "source": [
    "# extract the features we want to use! everything but catchphrase\n",
    "df = df.drop(\"catchphrase\", axis=1)"
   ]
  },
  {
   "cell_type": "code",
   "execution_count": 4,
   "id": "082114aa-719b-4aa2-b44a-26f39a34fbd7",
   "metadata": {},
   "outputs": [
    {
     "data": {
      "text/html": [
       "<div>\n",
       "<style scoped>\n",
       "    .dataframe tbody tr th:only-of-type {\n",
       "        vertical-align: middle;\n",
       "    }\n",
       "\n",
       "    .dataframe tbody tr th {\n",
       "        vertical-align: top;\n",
       "    }\n",
       "\n",
       "    .dataframe thead th {\n",
       "        text-align: right;\n",
       "    }\n",
       "</style>\n",
       "<table border=\"1\" class=\"dataframe\">\n",
       "  <thead>\n",
       "    <tr style=\"text-align: right;\">\n",
       "      <th></th>\n",
       "      <th>name</th>\n",
       "      <th>slimy</th>\n",
       "      <th>kill humans</th>\n",
       "    </tr>\n",
       "  </thead>\n",
       "  <tbody>\n",
       "    <tr>\n",
       "      <th>0</th>\n",
       "      <td>stitch</td>\n",
       "      <td>1.0</td>\n",
       "      <td>2.0</td>\n",
       "    </tr>\n",
       "    <tr>\n",
       "      <th>1</th>\n",
       "      <td>E.T.</td>\n",
       "      <td>2.0</td>\n",
       "      <td>1.0</td>\n",
       "    </tr>\n",
       "    <tr>\n",
       "      <th>2</th>\n",
       "      <td>Harvester</td>\n",
       "      <td>9.0</td>\n",
       "      <td>10.0</td>\n",
       "    </tr>\n",
       "    <tr>\n",
       "      <th>3</th>\n",
       "      <td>kang</td>\n",
       "      <td>10.0</td>\n",
       "      <td>8.0</td>\n",
       "    </tr>\n",
       "    <tr>\n",
       "      <th>4</th>\n",
       "      <td>kodos</td>\n",
       "      <td>10.0</td>\n",
       "      <td>7.0</td>\n",
       "    </tr>\n",
       "  </tbody>\n",
       "</table>\n",
       "</div>"
      ],
      "text/plain": [
       "        name  slimy  kill humans\n",
       "0     stitch    1.0          2.0\n",
       "1       E.T.    2.0          1.0\n",
       "2  Harvester    9.0         10.0\n",
       "3       kang   10.0          8.0\n",
       "4      kodos   10.0          7.0"
      ]
     },
     "execution_count": 4,
     "metadata": {},
     "output_type": "execute_result"
    }
   ],
   "source": [
    "df.head()"
   ]
  },
  {
   "cell_type": "code",
   "execution_count": 5,
   "id": "0a78a854-189e-40ab-8f1b-cf72b9e1cde1",
   "metadata": {},
   "outputs": [],
   "source": [
    "## Clustering begins now!\n",
    "k = 2\n",
    "# step one pick random points as centroids\n",
    "centroids = df.sample(n=k)"
   ]
  },
  {
   "cell_type": "code",
   "execution_count": 6,
   "id": "2f1396ba-cb49-44d8-b803-802db80584eb",
   "metadata": {},
   "outputs": [
    {
     "data": {
      "text/html": [
       "<div>\n",
       "<style scoped>\n",
       "    .dataframe tbody tr th:only-of-type {\n",
       "        vertical-align: middle;\n",
       "    }\n",
       "\n",
       "    .dataframe tbody tr th {\n",
       "        vertical-align: top;\n",
       "    }\n",
       "\n",
       "    .dataframe thead th {\n",
       "        text-align: right;\n",
       "    }\n",
       "</style>\n",
       "<table border=\"1\" class=\"dataframe\">\n",
       "  <thead>\n",
       "    <tr style=\"text-align: right;\">\n",
       "      <th></th>\n",
       "      <th>name</th>\n",
       "      <th>slimy</th>\n",
       "      <th>kill humans</th>\n",
       "    </tr>\n",
       "  </thead>\n",
       "  <tbody>\n",
       "    <tr>\n",
       "      <th>10</th>\n",
       "      <td>One-Eyed, One-Horned Flying Purple People Eater</td>\n",
       "      <td>4.0</td>\n",
       "      <td>10.0</td>\n",
       "    </tr>\n",
       "    <tr>\n",
       "      <th>36</th>\n",
       "      <td>Paul</td>\n",
       "      <td>2.0</td>\n",
       "      <td>1.5</td>\n",
       "    </tr>\n",
       "  </tbody>\n",
       "</table>\n",
       "</div>"
      ],
      "text/plain": [
       "                                               name  slimy  kill humans\n",
       "10  One-Eyed, One-Horned Flying Purple People Eater    4.0         10.0\n",
       "36                                             Paul    2.0          1.5"
      ]
     },
     "execution_count": 6,
     "metadata": {},
     "output_type": "execute_result"
    }
   ],
   "source": [
    "centroids"
   ]
  },
  {
   "cell_type": "code",
   "execution_count": 7,
   "id": "a7cb360c-a28e-4828-9bbd-8a6e62b53bac",
   "metadata": {},
   "outputs": [
    {
     "data": {
      "text/plain": [
       "[1,\n",
       " 1,\n",
       " 0,\n",
       " 0,\n",
       " 0,\n",
       " 0,\n",
       " 0,\n",
       " 1,\n",
       " 0,\n",
       " 1,\n",
       " 0,\n",
       " 1,\n",
       " 1,\n",
       " 0,\n",
       " 0,\n",
       " 0,\n",
       " 0,\n",
       " 1,\n",
       " 0,\n",
       " 1,\n",
       " 1,\n",
       " 0,\n",
       " 0,\n",
       " 0,\n",
       " 0,\n",
       " 0,\n",
       " 0,\n",
       " 0,\n",
       " 0,\n",
       " 0,\n",
       " 1,\n",
       " 1,\n",
       " 1,\n",
       " 1,\n",
       " 0,\n",
       " 1,\n",
       " 1,\n",
       " 1,\n",
       " 0,\n",
       " 0]"
      ]
     },
     "execution_count": 7,
     "metadata": {},
     "output_type": "execute_result"
    }
   ],
   "source": [
    "import scipy.spatial.distance as ssd\n",
    "\n",
    "# for each point in data, assign the point to its closest centroid\n",
    "# we need a distance function\n",
    "# lets use euclidean\n",
    "# centroids can be 0 and 1 for k=2\n",
    "centroid_assignments = []\n",
    "for i in range(len(df)):\n",
    "    current_point = df.iloc[i][[\"slimy\", \"kill humans\"]]\n",
    "\n",
    "    min_dist = float(\"inf\")\n",
    "    min_centroid = -1\n",
    "    # COMPUTE DISTANCE TO EACH CENTROID\n",
    "    for j in range(len(centroids)):\n",
    "        current_centroid = centroids.iloc[j][[\"slimy\", \"kill humans\"]]\n",
    "        distance = ssd.euclidean(current_centroid, current_point)\n",
    "\n",
    "        # if distance was min, assign min distance and min centroid\n",
    "        if distance < min_dist:\n",
    "            min_dist = distance\n",
    "            min_centroid = j\n",
    "    centroid_assignments.append(min_centroid)\n",
    "\n",
    "centroid_assignments\n",
    "\n"
   ]
  },
  {
   "cell_type": "code",
   "execution_count": 8,
   "id": "8c0a529a-2642-4e7a-9b33-79e7bbe8fbee",
   "metadata": {},
   "outputs": [
    {
     "data": {
      "text/plain": [
       "<Axes: xlabel='slimy', ylabel='kill humans'>"
      ]
     },
     "execution_count": 8,
     "metadata": {},
     "output_type": "execute_result"
    },
    {
     "data": {
      "image/png": "[encoded data removed]",
      "text/plain": [
       "<Figure size 640x480 with 1 Axes>"
      ]
     },
     "metadata": {},
     "output_type": "display_data"
    }
   ],
   "source": [
    "# add this cluster to our dataframe for viz\n",
    "df[\"cluster\"] = centroid_assignments\n",
    "# add color to our df\n",
    "import numpy as np\n",
    "df[\"color\"] = np.where(df[\"cluster\"]==1, \"red\", \"gold\")\n",
    "df.plot.scatter(x=\"slimy\", y=\"kill humans\", c=\"color\")"
   ]
  },
  {
   "cell_type": "code",
   "execution_count": 10,
   "id": "5b82c9aa-c8af-4acf-bfb7-89a0445d4d3d",
   "metadata": {
    "tags": []
   },
   "outputs": [
    {
     "data": {
      "text/html": [
       "<div>\n",
       "<style scoped>\n",
       "    .dataframe tbody tr th:only-of-type {\n",
       "        vertical-align: middle;\n",
       "    }\n",
       "\n",
       "    .dataframe tbody tr th {\n",
       "        vertical-align: top;\n",
       "    }\n",
       "\n",
       "    .dataframe thead th {\n",
       "        text-align: right;\n",
       "    }\n",
       "</style>\n",
       "<table border=\"1\" class=\"dataframe\">\n",
       "  <thead>\n",
       "    <tr style=\"text-align: right;\">\n",
       "      <th></th>\n",
       "      <th>name</th>\n",
       "      <th>slimy</th>\n",
       "      <th>kill humans</th>\n",
       "      <th>cluster</th>\n",
       "      <th>color</th>\n",
       "    </tr>\n",
       "  </thead>\n",
       "  <tbody>\n",
       "    <tr>\n",
       "      <th>0</th>\n",
       "      <td>stitch</td>\n",
       "      <td>1.0</td>\n",
       "      <td>2.0</td>\n",
       "      <td>1</td>\n",
       "      <td>red</td>\n",
       "    </tr>\n",
       "    <tr>\n",
       "      <th>1</th>\n",
       "      <td>E.T.</td>\n",
       "      <td>2.0</td>\n",
       "      <td>1.0</td>\n",
       "      <td>1</td>\n",
       "      <td>red</td>\n",
       "    </tr>\n",
       "    <tr>\n",
       "      <th>2</th>\n",
       "      <td>Harvester</td>\n",
       "      <td>9.0</td>\n",
       "      <td>10.0</td>\n",
       "      <td>0</td>\n",
       "      <td>gold</td>\n",
       "    </tr>\n",
       "    <tr>\n",
       "      <th>3</th>\n",
       "      <td>kang</td>\n",
       "      <td>10.0</td>\n",
       "      <td>8.0</td>\n",
       "      <td>0</td>\n",
       "      <td>gold</td>\n",
       "    </tr>\n",
       "    <tr>\n",
       "      <th>4</th>\n",
       "      <td>kodos</td>\n",
       "      <td>10.0</td>\n",
       "      <td>7.0</td>\n",
       "      <td>0</td>\n",
       "      <td>gold</td>\n",
       "    </tr>\n",
       "  </tbody>\n",
       "</table>\n",
       "</div>"
      ],
      "text/plain": [
       "        name  slimy  kill humans  cluster color\n",
       "0     stitch    1.0          2.0        1   red\n",
       "1       E.T.    2.0          1.0        1   red\n",
       "2  Harvester    9.0         10.0        0  gold\n",
       "3       kang   10.0          8.0        0  gold\n",
       "4      kodos   10.0          7.0        0  gold"
      ]
     },
     "execution_count": 10,
     "metadata": {},
     "output_type": "execute_result"
    }
   ],
   "source": [
    "# move your centroids based on the newly clustered data\n",
    "df.head()\n",
    "# new centroid for 0 would be slimy=1.5 and kill humans = 1.5\n",
    "# new centroid for 1 would be slimy = mean(9, 10, 10) and kill humans = \n",
    "# mean(10, 8, 7)\n",
    "\n",
    "# PPP 5!!!\n"
   ]
  },
  {
   "cell_type": "code",
   "execution_count": null,
   "id": "12d01b78-20dd-4d34-b9bb-dc6898cc66c2",
   "metadata": {},
   "outputs": [],
   "source": []
  }
 ],
 "metadata": {
  "kernelspec": {
   "display_name": "Python 3 (ipykernel)",
   "language": "python",
   "name": "python3"
  },
  "language_info": {
   "codemirror_mode": {
    "name": "ipython",
    "version": 3
   },
   "file_extension": ".py",
   "mimetype": "text/x-python",
   "name": "python",
   "nbconvert_exporter": "python",
   "pygments_lexer": "ipython3",
   "version": "3.11.5"
  }
 },
 "nbformat": 4,
 "nbformat_minor": 5
}
